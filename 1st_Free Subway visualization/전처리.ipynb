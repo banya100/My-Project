{
 "cells": [
  {
   "cell_type": "code",
   "execution_count": 1,
   "metadata": {},
   "outputs": [],
   "source": [
    "import pandas as pd\n",
    "import matplotlib.pyplot as plt\n",
    "import seaborn as sns"
   ]
  },
  {
   "cell_type": "markdown",
   "metadata": {},
   "source": [
    "데이터 불러오기"
   ]
  },
  {
   "cell_type": "code",
   "execution_count": 2,
   "metadata": {},
   "outputs": [],
   "source": [
    "subway = pd.read_csv('subway.csv', encoding='CP949')"
   ]
  },
  {
   "cell_type": "markdown",
   "metadata": {},
   "source": [
    "작업일자 제외"
   ]
  },
  {
   "cell_type": "code",
   "execution_count": 3,
   "metadata": {},
   "outputs": [],
   "source": [
    "subway = subway.iloc[:,0:7]"
   ]
  },
  {
   "cell_type": "markdown",
   "metadata": {},
   "source": [
    "중복데이터 제거"
   ]
  },
  {
   "cell_type": "code",
   "execution_count": 4,
   "metadata": {},
   "outputs": [],
   "source": [
    "subway = subway.drop_duplicates(['사용월','호선명','지하철역','유임승차인원','무임승차인원','유임하차인원','무임하차인원'])"
   ]
  },
  {
   "cell_type": "markdown",
   "metadata": {},
   "source": [
    "연도, 월 분리"
   ]
  },
  {
   "cell_type": "code",
   "execution_count": 5,
   "metadata": {},
   "outputs": [],
   "source": [
    "subway[\"연도\"] = subway[\"사용월\"].astype(str).str[:4]\n",
    "subway[\"월\"] = subway[\"사용월\"].astype(str).str[4:]"
   ]
  },
  {
   "cell_type": "markdown",
   "metadata": {},
   "source": [
    "9호선2~3단계, 9호선2단계 >> 9호선 으로 변경"
   ]
  },
  {
   "cell_type": "code",
   "execution_count": 6,
   "metadata": {},
   "outputs": [],
   "source": [
    "subway.loc[subway['호선명'] == '9호선2~3단계','호선명'] = '9호선'\n",
    "subway.loc[subway['호선명'] == '9호선2단계','호선명'] = '9호선'"
   ]
  },
  {
   "cell_type": "markdown",
   "metadata": {},
   "source": [
    "1호선~9호선 데이터만 선택"
   ]
  },
  {
   "cell_type": "code",
   "execution_count": 8,
   "metadata": {},
   "outputs": [],
   "source": [
    "sub1 = subway[subway['호선명'] == '1호선']\n",
    "sub2 = subway[subway['호선명'] == '2호선']\n",
    "sub3 = subway[subway['호선명'] == '3호선']\n",
    "sub4 = subway[subway['호선명'] == '4호선']\n",
    "sub5 = subway[subway['호선명'] == '5호선']\n",
    "sub6 = subway[subway['호선명'] == '6호선']\n",
    "sub7 = subway[subway['호선명'] == '7호선']\n",
    "sub8 = subway[subway['호선명'] == '8호선']\n",
    "sub9 = subway[subway['호선명'] == '9호선']\n",
    "\n",
    "sub = pd.concat([sub1,sub2,sub3,sub4,sub5,sub6,sub7,sub8,sub9]).reset_index(drop=True)"
   ]
  },
  {
   "cell_type": "markdown",
   "metadata": {},
   "source": [
    "만 명 단위로 변경"
   ]
  },
  {
   "cell_type": "code",
   "execution_count": 12,
   "metadata": {},
   "outputs": [],
   "source": [
    "col_list = ['유임승차인원','무임승차인원','유임하차인원','무임하차인원']\n",
    "sub[col_list] = sub[col_list]/10000"
   ]
  },
  {
   "cell_type": "markdown",
   "metadata": {},
   "source": [
    "유임승하차인원, 무임승하차인원, 승하차인원 열추가"
   ]
  },
  {
   "cell_type": "code",
   "execution_count": 13,
   "metadata": {},
   "outputs": [],
   "source": [
    "sub.loc[:,'유임승하차인원'] = (sub['유임승차인원']+sub['유임하차인원'])\n",
    "sub.loc[:,'무임승하차인원'] = (sub['무임승차인원']+sub['무임하차인원'])\n",
    "sub.loc[:,'승하차인원'] = (sub['유임승하차인원']+sub['무임승하차인원'])"
   ]
  },
  {
   "cell_type": "markdown",
   "metadata": {},
   "source": [
    "승차인원, 하차인원 열 추가"
   ]
  },
  {
   "cell_type": "code",
   "execution_count": 14,
   "metadata": {},
   "outputs": [],
   "source": [
    "sub.loc[:,'승차인원'] = (sub['유임승차인원']+sub['무임승차인원'])\n",
    "sub.loc[:,'하차인원'] = (sub['유임하차인원']+sub['무임하차인원'])"
   ]
  },
  {
   "cell_type": "markdown",
   "metadata": {},
   "source": [
    "유,무임하차율 열 추가"
   ]
  },
  {
   "cell_type": "code",
   "execution_count": 15,
   "metadata": {},
   "outputs": [],
   "source": [
    "sub.loc[:,'유임하차율'] = sub['유임하차인원']/sub['하차인원']*100\n",
    "sub.loc[:,'무임하차율'] = sub['무임하차인원']/sub['하차인원']*100"
   ]
  },
  {
   "cell_type": "markdown",
   "metadata": {},
   "source": [
    "연도별 데이터"
   ]
  },
  {
   "cell_type": "code",
   "execution_count": 16,
   "metadata": {},
   "outputs": [],
   "source": [
    "sub_15 = sub[sub.연도 == '2015'].reset_index(drop=True)\n",
    "sub_16 = sub[sub.연도 == '2016'].reset_index(drop=True)\n",
    "sub_17 = sub[sub.연도 == '2017'].reset_index(drop=True)\n",
    "sub_18 = sub[sub.연도 == '2018'].reset_index(drop=True)\n",
    "sub_19 = sub[sub.연도 == '2019'].reset_index(drop=True)"
   ]
  },
  {
   "cell_type": "markdown",
   "metadata": {},
   "source": [
    "18년12월~19년4월 데이터"
   ]
  },
  {
   "cell_type": "code",
   "execution_count": 17,
   "metadata": {},
   "outputs": [],
   "source": [
    "sub_1812_1904 = sub[(sub.사용월 == 201812) | (sub.사용월 == 201901) | \n",
    "                    (sub.사용월 == 201902) | (sub.사용월 == 201903) | (sub.사용월 == 201904)]"
   ]
  },
  {
   "cell_type": "markdown",
   "metadata": {},
   "source": [
    "19년12월~20년4월 데이터"
   ]
  },
  {
   "cell_type": "code",
   "execution_count": 18,
   "metadata": {},
   "outputs": [],
   "source": [
    "sub_1912_2004 = sub[(sub.사용월 == 201912) | (sub.사용월 == 202001) | \n",
    "                    (sub.사용월 == 202002) | (sub.사용월 == 202003) | (sub.사용월 == 202004)]"
   ]
  },
  {
   "cell_type": "markdown",
   "metadata": {},
   "source": [
    "파레트"
   ]
  },
  {
   "cell_type": "code",
   "execution_count": null,
   "metadata": {},
   "outputs": [],
   "source": [
    "# 내장 파레트\n",
    "# palette=\"Blues_d\"\n",
    "# palette=\"Greens_r\"\n",
    "# palette=\"Oranges_r\"\n",
    "\n",
    "# 호선별 색상 맞춘 파레트\n",
    "# pal = ['navy','seagreen','orangered','dodgerblue','darkviolet','saddlebrown','darkolivegreen','magenta','goldenrod']\n",
    "# palette=pal"
   ]
  }
 ],
 "metadata": {
  "kernelspec": {
   "display_name": "Python 3",
   "language": "python",
   "name": "python3"
  },
  "language_info": {
   "codemirror_mode": {
    "name": "ipython",
    "version": 3
   },
   "file_extension": ".py",
   "mimetype": "text/x-python",
   "name": "python",
   "nbconvert_exporter": "python",
   "pygments_lexer": "ipython3",
   "version": "3.7.1"
  }
 },
 "nbformat": 4,
 "nbformat_minor": 2
}
